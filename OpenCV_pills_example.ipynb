{
 "cells": [
  {
   "cell_type": "code",
   "execution_count": 1,
   "metadata": {},
   "outputs": [
    {
     "ename": "OSError",
     "evalue": "./gt.txt not found.",
     "output_type": "error",
     "traceback": [
      "\u001b[1;31m---------------------------------------------------------------------------\u001b[0m",
      "\u001b[1;31mOSError\u001b[0m                                   Traceback (most recent call last)",
      "\u001b[1;32m<ipython-input-1-f194b853835e>\u001b[0m in \u001b[0;36m<module>\u001b[1;34m()\u001b[0m\n\u001b[0;32m      5\u001b[0m \u001b[1;33m\u001b[0m\u001b[0m\n\u001b[0;32m      6\u001b[0m \u001b[0mimg\u001b[0m \u001b[1;33m=\u001b[0m \u001b[0mcv2\u001b[0m\u001b[1;33m.\u001b[0m\u001b[0mimread\u001b[0m\u001b[1;33m(\u001b[0m\u001b[1;34m'D:\\Hanal\\pills_img\\A11AOOOOO042301.jpg'\u001b[0m\u001b[1;33m)\u001b[0m\u001b[1;33m\u001b[0m\u001b[0m\n\u001b[1;32m----> 7\u001b[1;33m \u001b[0mgt\u001b[0m \u001b[1;33m=\u001b[0m \u001b[0mnp\u001b[0m\u001b[1;33m.\u001b[0m\u001b[0mloadtxt\u001b[0m\u001b[1;33m(\u001b[0m\u001b[1;34m'./gt.txt'\u001b[0m\u001b[1;33m,\u001b[0m \u001b[0mdtype\u001b[0m \u001b[1;33m=\u001b[0m \u001b[0mnp\u001b[0m\u001b[1;33m.\u001b[0m\u001b[0mint\u001b[0m\u001b[1;33m,\u001b[0m \u001b[0mdelimiter\u001b[0m \u001b[1;33m=\u001b[0m \u001b[1;34m','\u001b[0m\u001b[1;33m)\u001b[0m\u001b[1;33m\u001b[0m\u001b[0m\n\u001b[0m\u001b[0;32m      8\u001b[0m \u001b[1;33m\u001b[0m\u001b[0m\n\u001b[0;32m      9\u001b[0m \u001b[0minput_img\u001b[0m \u001b[1;33m=\u001b[0m \u001b[0mimg\u001b[0m\u001b[1;33m[\u001b[0m\u001b[0mnp\u001b[0m\u001b[1;33m.\u001b[0m\u001b[0mnewaxis\u001b[0m\u001b[1;33m,\u001b[0m \u001b[1;33m:\u001b[0m\u001b[1;33m,\u001b[0m \u001b[1;33m:\u001b[0m\u001b[1;33m,\u001b[0m \u001b[1;33m:\u001b[0m\u001b[1;33m]\u001b[0m\u001b[1;33m\u001b[0m\u001b[0m\n",
      "\u001b[1;32mD:\\anaconda3\\lib\\site-packages\\numpy\\lib\\npyio.py\u001b[0m in \u001b[0;36mloadtxt\u001b[1;34m(fname, dtype, comments, delimiter, converters, skiprows, usecols, unpack, ndmin, encoding, max_rows)\u001b[0m\n\u001b[0;32m    959\u001b[0m             \u001b[0mfname\u001b[0m \u001b[1;33m=\u001b[0m \u001b[0mos_fspath\u001b[0m\u001b[1;33m(\u001b[0m\u001b[0mfname\u001b[0m\u001b[1;33m)\u001b[0m\u001b[1;33m\u001b[0m\u001b[0m\n\u001b[0;32m    960\u001b[0m         \u001b[1;32mif\u001b[0m \u001b[0m_is_string_like\u001b[0m\u001b[1;33m(\u001b[0m\u001b[0mfname\u001b[0m\u001b[1;33m)\u001b[0m\u001b[1;33m:\u001b[0m\u001b[1;33m\u001b[0m\u001b[0m\n\u001b[1;32m--> 961\u001b[1;33m             \u001b[0mfh\u001b[0m \u001b[1;33m=\u001b[0m \u001b[0mnp\u001b[0m\u001b[1;33m.\u001b[0m\u001b[0mlib\u001b[0m\u001b[1;33m.\u001b[0m\u001b[0m_datasource\u001b[0m\u001b[1;33m.\u001b[0m\u001b[0mopen\u001b[0m\u001b[1;33m(\u001b[0m\u001b[0mfname\u001b[0m\u001b[1;33m,\u001b[0m \u001b[1;34m'rt'\u001b[0m\u001b[1;33m,\u001b[0m \u001b[0mencoding\u001b[0m\u001b[1;33m=\u001b[0m\u001b[0mencoding\u001b[0m\u001b[1;33m)\u001b[0m\u001b[1;33m\u001b[0m\u001b[0m\n\u001b[0m\u001b[0;32m    962\u001b[0m             \u001b[0mfencoding\u001b[0m \u001b[1;33m=\u001b[0m \u001b[0mgetattr\u001b[0m\u001b[1;33m(\u001b[0m\u001b[0mfh\u001b[0m\u001b[1;33m,\u001b[0m \u001b[1;34m'encoding'\u001b[0m\u001b[1;33m,\u001b[0m \u001b[1;34m'latin1'\u001b[0m\u001b[1;33m)\u001b[0m\u001b[1;33m\u001b[0m\u001b[0m\n\u001b[0;32m    963\u001b[0m             \u001b[0mfh\u001b[0m \u001b[1;33m=\u001b[0m \u001b[0miter\u001b[0m\u001b[1;33m(\u001b[0m\u001b[0mfh\u001b[0m\u001b[1;33m)\u001b[0m\u001b[1;33m\u001b[0m\u001b[0m\n",
      "\u001b[1;32mD:\\anaconda3\\lib\\site-packages\\numpy\\lib\\_datasource.py\u001b[0m in \u001b[0;36mopen\u001b[1;34m(path, mode, destpath, encoding, newline)\u001b[0m\n\u001b[0;32m    193\u001b[0m \u001b[1;33m\u001b[0m\u001b[0m\n\u001b[0;32m    194\u001b[0m     \u001b[0mds\u001b[0m \u001b[1;33m=\u001b[0m \u001b[0mDataSource\u001b[0m\u001b[1;33m(\u001b[0m\u001b[0mdestpath\u001b[0m\u001b[1;33m)\u001b[0m\u001b[1;33m\u001b[0m\u001b[0m\n\u001b[1;32m--> 195\u001b[1;33m     \u001b[1;32mreturn\u001b[0m \u001b[0mds\u001b[0m\u001b[1;33m.\u001b[0m\u001b[0mopen\u001b[0m\u001b[1;33m(\u001b[0m\u001b[0mpath\u001b[0m\u001b[1;33m,\u001b[0m \u001b[0mmode\u001b[0m\u001b[1;33m,\u001b[0m \u001b[0mencoding\u001b[0m\u001b[1;33m=\u001b[0m\u001b[0mencoding\u001b[0m\u001b[1;33m,\u001b[0m \u001b[0mnewline\u001b[0m\u001b[1;33m=\u001b[0m\u001b[0mnewline\u001b[0m\u001b[1;33m)\u001b[0m\u001b[1;33m\u001b[0m\u001b[0m\n\u001b[0m\u001b[0;32m    196\u001b[0m \u001b[1;33m\u001b[0m\u001b[0m\n\u001b[0;32m    197\u001b[0m \u001b[1;33m\u001b[0m\u001b[0m\n",
      "\u001b[1;32mD:\\anaconda3\\lib\\site-packages\\numpy\\lib\\_datasource.py\u001b[0m in \u001b[0;36mopen\u001b[1;34m(self, path, mode, encoding, newline)\u001b[0m\n\u001b[0;32m    533\u001b[0m                                       encoding=encoding, newline=newline)\n\u001b[0;32m    534\u001b[0m         \u001b[1;32melse\u001b[0m\u001b[1;33m:\u001b[0m\u001b[1;33m\u001b[0m\u001b[0m\n\u001b[1;32m--> 535\u001b[1;33m             \u001b[1;32mraise\u001b[0m \u001b[0mIOError\u001b[0m\u001b[1;33m(\u001b[0m\u001b[1;34m\"%s not found.\"\u001b[0m \u001b[1;33m%\u001b[0m \u001b[0mpath\u001b[0m\u001b[1;33m)\u001b[0m\u001b[1;33m\u001b[0m\u001b[0m\n\u001b[0m\u001b[0;32m    536\u001b[0m \u001b[1;33m\u001b[0m\u001b[0m\n\u001b[0;32m    537\u001b[0m \u001b[1;33m\u001b[0m\u001b[0m\n",
      "\u001b[1;31mOSError\u001b[0m: ./gt.txt not found."
     ]
    }
   ],
   "source": [
    "import cv2\n",
    "import numpy as np\n",
    "import imgaug as ia\n",
    "import imgaug.augmenters as iaa\n",
    " \n",
    "img = cv2.imread('D:\\Hanal\\pills_img\\A11AOOOOO042301.jpg')\n",
    "gt = np.loadtxt('./gt.txt', dtype = np.int, delimiter = ',')\n",
    " \n",
    "input_img = img[np.newaxis, :, :, :]\n",
    "bbox = [ia.BoundingBox(x1 = gt[0], y1 = gt[1], x2 = gt[2], y2 = gt[3])]\n",
    " \n",
    "seq = iaa.Sequential([\n",
    "    iaa.Multiply((1.2, 1.5)),\n",
    "    iaa.Affine(\n",
    "        scale = (0.5, 0.7),\n",
    "        rotate = 45)])\n",
    " \n",
    "aug_img, aug_bbox = seq(images = input_img, bounding_boxes = bbox)\n",
    "draw = aug_bbox[0].draw_on_image(aug_img[0], size = 2, color = [0,0,255])\n",
    "res = np.hstack((img, draw))\n",
    "cv2.imshow('res', res) "
   ]
  },
  {
   "cell_type": "code",
   "execution_count": null,
   "metadata": {},
   "outputs": [],
   "source": [
    "import cv2\n",
    " \n",
    "# 이미지 읽기\n",
    "img_color = cv2.imread('D:\\Hanal\\pills_img\\A11AOOOOO042301.jpg', cv2.IMREAD_COLOR)\n",
    " \n",
    "# 컬러 이미지를 그레이스케일로 변환\n",
    "img_gray = cv2.cvtColor(img_color, cv2.COLOR_BGR2GRAY)\n",
    " \n",
    "# 이미지 사이즈 변경\n",
    "img_gray_reduced = cv2.resize(img_gray, None, fx=0.5, fy=0.5, interpolation=cv2.INTER_AREA) # 가로, 세로 모두 반으로 줄이기\n",
    " \n",
    "# 이미지 보여주기\n",
    "cv2.imshow('color', img_color) # color라는 이름의 윈도우 안에 img_color라는 이미지를 보여줌\n",
    "cv2.imshow('gray-scale', img_gray)\n",
    "cv2.imshow('gray-scale reduced', img_gray_reduced)\n",
    " \n",
    "cv2.waitKey(0)\n",
    "cv2.destroyAllWindows()\n",
    " \n",
    "# 이미지 저장\n",
    "cv2.imwrite('result.jpg', img_gray_reduced) #img_gray_reduced를 result.jpg 이미지 파일로 저장\n",
    " "
   ]
  },
  {
   "cell_type": "code",
   "execution_count": null,
   "metadata": {},
   "outputs": [],
   "source": [
    "import cv2\n",
    " \n",
    "img = cv2.imread('D:\\Hanal\\pills_img\\A11AOOOOO042301.jpg', cv2.IMREAD_COLOR)\n",
    " \n",
    "img90 = cv2.rotate(img, cv2.ROTATE_90_CLOCKWISE) # 시계방향으로 90도 회전\n",
    "img180 = cv2.rotate(img, cv2.ROTATE_180) # 180도 회전\n",
    "img270 = cv2.rotate(img, cv2.ROTATE_90_COUNTERCLOCKWISE) # 반시계방향으로 90도 회전 \n",
    "                                                         # = 시계방향으로 270도 회전\n",
    " \n",
    "cv2.imshow('original', img)\n",
    "cv2.imshow('rotate90', img90)\n",
    "cv2.imshow('rotate180', img180)\n",
    "cv2.imshow('rotate270', img270)\n",
    " \n",
    "cv2.waitKey(0)\n",
    "cv2.destroyAllWindows()"
   ]
  },
  {
   "cell_type": "code",
   "execution_count": null,
   "metadata": {},
   "outputs": [],
   "source": [
    "import cv2\n",
    "\n",
    "src = cv2.imread(\"D:\\Hanal\\pills_img\\A11AOOOOO042301.jpg\", cv2.IMREAD_COLOR)\n",
    "dst = cv2.blur(src, (9, 9), anchor=(-1, -1), borderType=cv2.BORDER_DEFAULT)\n",
    "\n",
    "cv2.imshow(\"dst\", dst)\n",
    "cv2.waitKey()\n",
    "cv2.destroyAllWindows()"
   ]
  },
  {
   "cell_type": "code",
   "execution_count": null,
   "metadata": {},
   "outputs": [],
   "source": [
    "import numpy as np\n",
    "import os\n",
    "import cv2\n",
    "def noisy(noise_typ,image):\n",
    "   if noise_typ == \"gauss\":\n",
    "      row,col,ch= image.shape\n",
    "      mean = 0\n",
    "      var = 0.1\n",
    "      sigma = var**0.5\n",
    "      gauss = np.random.normal(mean,sigma,(row,col,ch))\n",
    "      gauss = gauss.reshape(row,col,ch)\n",
    "      noisy = image + gauss\n",
    "      return noisy\n",
    "   elif noise_typ == \"s&p\":\n",
    "      row,col,ch = image.shape\n",
    "      s_vs_p = 0.5\n",
    "      amount = 0.004\n",
    "      out = np.copy(image)\n",
    "      # Salt mode\n",
    "      num_salt = np.ceil(amount * image.size * s_vs_p)\n",
    "      coords = [np.random.randint(0, i - 1, int(num_salt))\n",
    "              for i in image.shape]\n",
    "      out[coords] = 1\n",
    "\n",
    "      # Pepper mode\n",
    "      num_pepper = np.ceil(amount* image.size * (1. - s_vs_p))\n",
    "      coords = [np.random.randint(0, i - 1, int(num_pepper))\n",
    "              for i in image.shape]\n",
    "      out[coords] = 0\n",
    "      return out\n",
    "  elif noise_typ == \"poisson\":\n",
    "      vals = len(np.unique(image))\n",
    "      vals = 2 ** np.ceil(np.log2(vals))\n",
    "      noisy = np.random.poisson(image * vals) / float(vals)\n",
    "      return noisy\n",
    "  elif noise_typ ==\"speckle\":\n",
    "      row,col,ch = image.shape\n",
    "      gauss = np.random.randn(row,col,ch)\n",
    "      gauss = gauss.reshape(row,col,ch)        \n",
    "      noisy = image + image * gauss\n",
    "      return noisy"
   ]
  },
  {
   "cell_type": "code",
   "execution_count": null,
   "metadata": {},
   "outputs": [],
   "source": [
    "import cv2\n",
    "\n",
    "import numpy as np\n",
    "\n",
    "import matplotlib.pyplot as plt\n",
    "\n",
    " \n",
    "\n",
    "# [0, 1] 사이의 범위의 부동소수점 데이터 타입으로 변환\n",
    "\n",
    "img = cv2.imread('D:\\Hanal\\pills_img\\A11AOOOOO042301.jpg').astype(np.float32) / 255\n",
    "\n",
    "\n",
    "# noise 추가\n",
    "\n",
    "noise = (img + 0.2 * np.random.rand(*img.shape).astype(np.float32))\n",
    "\n",
    "gauss_blur = cv2.GaussianBlur(noise, (7, 7), 0)\n",
    "\n",
    "median_blur = cv2.medianBlur((noise * 255).astype(np.uint8),7)\n",
    "\n",
    "noise = noise.clip(0, 1)\n",
    "\n",
    "plt.imshow(noise[:, :, [2,1,0]])\n",
    "\n",
    "plt.imshow(gauss_blur [:, :, [2,1,0]])\n",
    "\n",
    "plt.imshow(median_blur[:, :, [2,1,0]])\n",
    "\n",
    "plt.show()"
   ]
  },
  {
   "cell_type": "code",
   "execution_count": 2,
   "metadata": {},
   "outputs": [
    {
     "name": "stdout",
     "output_type": "stream",
     "text": [
      "값:  200.0\n"
     ]
    },
    {
     "data": {
      "text/plain": [
       "<Figure size 1000x300 with 3 Axes>"
      ]
     },
     "metadata": {},
     "output_type": "display_data"
    }
   ],
   "source": [
    "import cv2\n",
    "\n",
    "import numpy as np\n",
    "\n",
    "import matplotlib.pyplot as plt\n",
    "\n",
    " \n",
    "\n",
    "origin_img = cv2.imread('D:\\Hanal\\pills_img\\A11AOOOOO042301.jpg', 0) # gray scale\n",
    "\n",
    "#origin_img = origin_img / 255\n",
    "\n",
    " \n",
    "\n",
    "# basic threshold\n",
    "\n",
    "threshold, mask = cv2.threshold(origin_img, 200, 1, cv2.THRESH_BINARY)\n",
    "\n",
    "print('값: ', threshold)\n",
    "\n",
    " \n",
    "\n",
    "# adapt threshold\n",
    "\n",
    "adapt_mask = cv2.adaptiveThreshold(origin_img, 255, cv2.ADAPTIVE_THRESH_MEAN_C, cv2.THRESH_BINARY_INV, 11, 10)\n",
    "\n",
    " \n",
    "\n",
    "# visualization\n",
    "\n",
    "plt.figure(figsize=(10,3))\n",
    "\n",
    "plt.subplot(131)\n",
    "\n",
    "plt.axis('off')\n",
    "\n",
    "plt.title('origin_img')\n",
    "\n",
    "plt.imshow(origin_img, cmap='gray')\n",
    "\n",
    "plt.subplot(132)\n",
    "\n",
    "plt.axis('off')\n",
    "\n",
    "plt.title('binary threshold')\n",
    "\n",
    "plt.imshow(mask, cmap='gray')\n",
    "\n",
    "plt.subplot(133)\n",
    "\n",
    "plt.axis('off')\n",
    "\n",
    "plt.title('adaptive threshold')\n",
    "\n",
    "plt.imshow(adapt_mask, cmap='gray')\n",
    "\n",
    "plt.tight_layout()\n",
    "\n",
    "plt.show()\n"
   ]
  },
  {
   "cell_type": "code",
   "execution_count": 3,
   "metadata": {},
   "outputs": [],
   "source": [
    "#밝기 조정\n",
    "import numpy as np\n",
    "import cv2\n",
    "\n",
    "src=cv2.imread('D:\\Hanal\\pills_img\\A11AOOOOO042301.jpg',cv2.IMREAD_GRAYSCALE)\n",
    "add_dst=cv2.add(src,30)\n",
    "sub_dst=cv2.subtract(src,50)\n",
    "\n",
    "cv2.imshow('src',src)\n",
    "cv2.imshow('add_dst',add_dst)\n",
    "cv2.imshow('sub_dst',sub_dst)\n",
    "\n",
    "cv2.waitKey()\n",
    "cv2.destroyAllWindows()"
   ]
  },
  {
   "cell_type": "code",
   "execution_count": 4,
   "metadata": {},
   "outputs": [],
   "source": [
    "#모폴로지 그라디언트\n",
    "import os\n",
    "import numpy as np\n",
    "import cv2\n",
    "\n",
    "path=os.path.join('img','D:\\Hanal\\pills_img\\A11AOOOOO042301.jpg')\n",
    "src=cv2.imread(path,cv2.IMREAD_GRAYSCALE)\n",
    "op_idx={\n",
    "    'gradient':cv2.MORPH_GRADIENT\n",
    "}\n",
    "def onChange(k,op_name):\n",
    "    if k==0:\n",
    "        cv2.imshow(op_name,src)\n",
    "    kernel=cv2.getStructuringElement(cv2.MORPH_RECT,(k,k))\n",
    "    dst=cv2.morphologyEx(src,op_idx[op_name],kernel)\n",
    "    \n",
    "cv2.imshow('gradient',src)\n",
    "cv2.createTrackbar('k','gradient',0,300,lambda x: onChange(k=x,op_name='gradient'))\n",
    "cv2.waitKey()\n",
    "cv2.destroyAllWindows()\n",
    "    \n"
   ]
  },
  {
   "cell_type": "code",
   "execution_count": 5,
   "metadata": {},
   "outputs": [
    {
     "ename": "error",
     "evalue": "OpenCV(4.5.2) :-1: error: (-5:Bad argument) in function 'adaptiveThreshold'\n> Overload resolution failed:\n>  - Required argument 'blockSize' (pos 5) not found\n>  - Required argument 'blockSize' (pos 5) not found\n",
     "output_type": "error",
     "traceback": [
      "\u001b[1;31m---------------------------------------------------------------------------\u001b[0m",
      "\u001b[1;31merror\u001b[0m                                     Traceback (most recent call last)",
      "\u001b[1;32m<ipython-input-5-1a3074e0a67a>\u001b[0m in \u001b[0;36monChange\u001b[1;34m(val)\u001b[0m\n\u001b[0;32m     13\u001b[0m         \u001b[0mval\u001b[0m\u001b[1;33m=\u001b[0m\u001b[0mval\u001b[0m\u001b[1;33m-\u001b[0m\u001b[1;36m1\u001b[0m\u001b[1;33m\u001b[0m\u001b[0m\n\u001b[0;32m     14\u001b[0m     dst=cv2.adaptiveThreshold(src,255,cv2.ADAPTIVE_THRESH_GAUSSIAN_C,cv2.THRESH_BINARY,\n\u001b[1;32m---> 15\u001b[1;33m                              blockSixe=val,C=5)\n\u001b[0m\u001b[0;32m     16\u001b[0m     \u001b[0mcv2\u001b[0m\u001b[1;33m.\u001b[0m\u001b[0mimshow\u001b[0m\u001b[1;33m(\u001b[0m\u001b[1;34m'adaptiveThreshold'\u001b[0m\u001b[1;33m,\u001b[0m\u001b[0mdst\u001b[0m\u001b[1;33m)\u001b[0m\u001b[1;33m\u001b[0m\u001b[0m\n\u001b[0;32m     17\u001b[0m \u001b[1;33m\u001b[0m\u001b[0m\n",
      "\u001b[1;31merror\u001b[0m: OpenCV(4.5.2) :-1: error: (-5:Bad argument) in function 'adaptiveThreshold'\n> Overload resolution failed:\n>  - Required argument 'blockSize' (pos 5) not found\n>  - Required argument 'blockSize' (pos 5) not found\n"
     ]
    },
    {
     "ename": "error",
     "evalue": "OpenCV(4.5.2) :-1: error: (-5:Bad argument) in function 'adaptiveThreshold'\n> Overload resolution failed:\n>  - Required argument 'blockSize' (pos 5) not found\n>  - Required argument 'blockSize' (pos 5) not found\n",
     "output_type": "error",
     "traceback": [
      "\u001b[1;31m---------------------------------------------------------------------------\u001b[0m",
      "\u001b[1;31merror\u001b[0m                                     Traceback (most recent call last)",
      "\u001b[1;32m<ipython-input-5-1a3074e0a67a>\u001b[0m in \u001b[0;36monChange\u001b[1;34m(val)\u001b[0m\n\u001b[0;32m     13\u001b[0m         \u001b[0mval\u001b[0m\u001b[1;33m=\u001b[0m\u001b[0mval\u001b[0m\u001b[1;33m-\u001b[0m\u001b[1;36m1\u001b[0m\u001b[1;33m\u001b[0m\u001b[0m\n\u001b[0;32m     14\u001b[0m     dst=cv2.adaptiveThreshold(src,255,cv2.ADAPTIVE_THRESH_GAUSSIAN_C,cv2.THRESH_BINARY,\n\u001b[1;32m---> 15\u001b[1;33m                              blockSixe=val,C=5)\n\u001b[0m\u001b[0;32m     16\u001b[0m     \u001b[0mcv2\u001b[0m\u001b[1;33m.\u001b[0m\u001b[0mimshow\u001b[0m\u001b[1;33m(\u001b[0m\u001b[1;34m'adaptiveThreshold'\u001b[0m\u001b[1;33m,\u001b[0m\u001b[0mdst\u001b[0m\u001b[1;33m)\u001b[0m\u001b[1;33m\u001b[0m\u001b[0m\n\u001b[0;32m     17\u001b[0m \u001b[1;33m\u001b[0m\u001b[0m\n",
      "\u001b[1;31merror\u001b[0m: OpenCV(4.5.2) :-1: error: (-5:Bad argument) in function 'adaptiveThreshold'\n> Overload resolution failed:\n>  - Required argument 'blockSize' (pos 5) not found\n>  - Required argument 'blockSize' (pos 5) not found\n"
     ]
    }
   ],
   "source": [
    "import os\n",
    "import cv2\n",
    "import numpy as np\n",
    "\n",
    "path=os.path.join('img','D:\\Hanal\\pills_img\\A11AOOOOO042301.jpg')\n",
    "src=cv2.imread(path,cv2.IMREAD_GRAYSCALE)\n",
    "src=cv2.resize(src,None,fx=2,fy=2)\n",
    "\n",
    "def onChange(val):\n",
    "    if val<3:\n",
    "        cv2.imshow('adaptiveThreshold',src)\n",
    "    if val%2==0:\n",
    "        val=val-1\n",
    "    dst=cv2.adaptiveThreshold(src,255,cv2.ADAPTIVE_THRESH_GAUSSIAN_C,cv2.THRESH_BINARY,\n",
    "                             blockSixe=val,C=5)\n",
    "    cv2.imshow('adaptiveThreshold',dst)\n",
    "\n",
    "cv2.imshow('adaptiveThreshold',src)\n",
    "cv2.createTrackbar('block size','adaptiveThreshold',0,200,onChange)\n",
    "\n",
    "cv2.waitKey()\n",
    "cv2.destroyAllWindows()"
   ]
  },
  {
   "cell_type": "code",
   "execution_count": 6,
   "metadata": {},
   "outputs": [
    {
     "data": {
      "image/png": "[encoded data removed]",
      "text/plain": [
       "<Figure size 720x720 with 4 Axes>"
      ]
     },
     "metadata": {},
     "output_type": "display_data"
    }
   ],
   "source": [
    "#캐니엣지\n",
    "\n",
    "import cv2\n",
    "import numpy as np\n",
    "import matplotlib.pyplot as plt\n",
    "img3 = cv2.imread('D:\\Hanal\\pills_img\\A11AOOOOO042301.jpg', cv2.IMREAD_GRAYSCALE)\n",
    "\n",
    "canny1 = cv2.Canny(img3, 50, 200)\n",
    "canny2 = cv2.Canny(img3, 100, 200)\n",
    "canny3 = cv2.Canny(img3, 170, 200)\n",
    "\n",
    "titles = ['original', 'canny1', 'canny2', 'canny3']\n",
    "images = [img3, canny1, canny2, canny3]\n",
    "\n",
    "cv2.imshow('original', img3)\n",
    "cv2.imshow('canny1', canny1)\n",
    "cv2.imshow('canny2', canny2)\n",
    "cv2.imshow('canny3', canny3)\n",
    "cv2.waitKey(0)\n",
    "cv2.destroyAllWindows()\n",
    "\n",
    "plt.figure(figsize=(10, 10))\n",
    "for i in range(4):\n",
    "    plt.subplot(2, 2, i+1)\n",
    "    plt.title(titles[i])\n",
    "    plt.imshow(images[i], cmap='gray')\n",
    "    plt.axis('off')\n",
    "    \n",
    "plt.tight_layout()\n",
    "plt.show()\n"
   ]
  },
  {
   "cell_type": "code",
   "execution_count": 7,
   "metadata": {},
   "outputs": [
    {
     "name": "stdout",
     "output_type": "stream",
     "text": [
      "otsu's threshold: 154.0\n"
     ]
    }
   ],
   "source": [
    "src = cv2.imread('D:\\Hanal\\pills_img\\A11AOOOOO042301.jpg', cv2.IMREAD_GRAYSCALE)\n",
    "\n",
    "if src is None:\n",
    "    print('Image load failed!')\n",
    "    sys.exit()\n",
    "\n",
    "\n",
    "# or 연산자로 OTSU 인자 입력\n",
    "# 반환값 2개, 1개는 OTSU 임계값(실수형), 1개는 dst영상\n",
    "# cv2.THRESH_OTSU 만 입력해도 됌\n",
    "th, dst = cv2.threshold(src, 0, 255, cv2.THRESH_BINARY | cv2.THRESH_OTSU)\n",
    "print(\"otsu's threshold:\", th)  # 131\n",
    "\n",
    "cv2.imshow('src', src)\n",
    "cv2.imshow('dst', dst)\n",
    "cv2.waitKey()\n",
    "cv2.destroyAllWindows()"
   ]
  },
  {
   "cell_type": "code",
   "execution_count": 8,
   "metadata": {},
   "outputs": [
    {
     "data": {
      "image/png": "[encoded data removed]",
      "text/plain": [
       "<Figure size 432x288 with 2 Axes>"
      ]
     },
     "metadata": {},
     "output_type": "display_data"
    },
    {
     "data": {
      "text/plain": [
       "(<matplotlib.image.AxesImage at 0x1f9a5812cc0>,\n",
       " <matplotlib.colorbar.Colorbar at 0x1f9a5af1748>,\n",
       " None)"
      ]
     },
     "execution_count": 8,
     "metadata": {},
     "output_type": "execute_result"
    }
   ],
   "source": [
    "import numpy as np\n",
    "import cv2\n",
    "from matplotlib import pyplot as plt\n",
    "img = cv2.imread('D:\\Hanal\\pills_img\\A11AOOOOO042301.jpg')\n",
    "mask = np.zeros(img.shape[:2],np.uint8)\n",
    "bgdModel = np.zeros((1,65),np.float64)\n",
    "fgdModel = np.zeros((1,65),np.float64)\n",
    "rect = (50,50,450,290)\n",
    "cv2.grabCut(img,mask,rect,bgdModel,fgdModel,5,cv2.GC_INIT_WITH_RECT)\n",
    "mask2 = np.where((mask==2)|(mask==0),0,1).astype('uint8')\n",
    "img = img*mask2[:,:,np.newaxis]\n",
    "plt.imshow(img),plt.colorbar(),plt.show()"
   ]
  },
  {
   "cell_type": "code",
   "execution_count": 9,
   "metadata": {},
   "outputs": [
    {
     "data": {
      "text/plain": [
       "-1"
      ]
     },
     "execution_count": 9,
     "metadata": {},
     "output_type": "execute_result"
    }
   ],
   "source": [
    "#이미지 선따기\n",
    "import cv2\n",
    "\n",
    "image = cv2.imread('D:\\Hanal\\pills_img\\A11AOOOOO042301.jpg')\n",
    "imageHeight,imageWidth=image.shape[:2]\n",
    "resizeHeight = int(0.1* imageHeight)\n",
    "resizeWidth=int(0.2*imageWidth)\n",
    "image=cv2.resize(image,(resizeHeight,resizeWidth), interpolation=cv2.INTER_CUBIC)\n",
    "##gray scale\n",
    "gray=cv2.cvtColor(image,cv2.COLOR_BGR2GRAY)\n",
    "##blur\n",
    "blur=cv2.bilateralFilter(gray,9,75,75)\n",
    "##sharpning\n",
    "kernel_sharpen=np.array([[-1,-1,-1],[-1,9,-1],[-1,-1,-1]])\n",
    "sharp=cv2.filter2D(blur,-1,kernel_sharpen)\n",
    "\n",
    "canny=cv2.Canny(sharp,30,70)\n",
    "\n",
    "#threshold\n",
    "ret, thresh=cv2.threshold(sharp,150,255,cv2.THRESH_TOZERO)\n",
    "#morphology\n",
    "kernel=np.ones((3,3),np.uint8)\n",
    "opening=cv2.morphologyEx(thresh,cv2.MORPH_OPEN,kernel)\n",
    "#canny\n",
    "canny=cv2.Canny(opening,30,70)\n",
    "img=canny\n",
    "\n",
    "cv2.imshow('Show Image',img)\n",
    "cv2.waitKey()\n"
   ]
  }
 ],
 "metadata": {
  "kernelspec": {
   "display_name": "Python 3",
   "language": "python",
   "name": "python3"
  },
  "language_info": {
   "codemirror_mode": {
    "name": "ipython",
    "version": 3
   },
   "file_extension": ".py",
   "mimetype": "text/x-python",
   "name": "python",
   "nbconvert_exporter": "python",
   "pygments_lexer": "ipython3",
   "version": "3.6.5"
  }
 },
 "nbformat": 4,
 "nbformat_minor": 2
}
